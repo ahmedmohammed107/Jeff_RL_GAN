{
 "cells": [
  {
   "cell_type": "code",
   "execution_count": 1,
   "id": "7ae7c080",
   "metadata": {},
   "outputs": [
    {
     "name": "stderr",
     "output_type": "stream",
     "text": [
      "/Users/ahmedmohammed/opt/miniconda3/envs/pytorch_env/lib/python3.9/site-packages/tqdm/auto.py:22: TqdmWarning: IProgress not found. Please update jupyter and ipywidgets. See https://ipywidgets.readthedocs.io/en/stable/user_install.html\n",
      "  from .autonotebook import tqdm as notebook_tqdm\n"
     ]
    }
   ],
   "source": [
    "import os\n",
    "import json\n",
    "import math\n",
    "import numpy as np\n",
    "import torch\n",
    "import pytorch_lightning as pl\n",
    "from copy import deepcopy\n",
    "import matplotlib.pyplot as plt\n",
    "from sklearn.model_selection import train_test_split\n",
    "from sklearn.metrics.pairwise import rbf_kernel"
   ]
  },
  {
   "cell_type": "code",
   "execution_count": 2,
   "id": "a3d8d4d7",
   "metadata": {},
   "outputs": [
    {
     "data": {
      "text/plain": [
       "(array([ 4.,  6., 15., 14., 11., 17., 20., 19., 34., 46., 43., 39., 50.,\n",
       "        28., 32.]),\n",
       " array([16.        , 20.86666667, 25.73333333, 30.6       , 35.46666667,\n",
       "        40.33333333, 45.2       , 50.06666667, 54.93333333, 59.8       ,\n",
       "        64.66666667, 69.53333333, 74.4       , 79.26666667, 84.13333333,\n",
       "        89.        ]),\n",
       " <BarContainer object of 15 artists>)"
      ]
     },
     "execution_count": 2,
     "metadata": {},
     "output_type": "execute_result"
    },
    {
     "data": {
      "image/png": "[encoded data removed]",
      "text/plain": [
       "<Figure size 432x288 with 1 Axes>"
      ]
     },
     "metadata": {
      "needs_background": "light"
     },
     "output_type": "display_data"
    }
   ],
   "source": [
    "data_train = np.load('data_train.npy')\n",
    "data_val = np.load('data_val.npy')\n",
    "data_test = np.load('data_test.npy')\n",
    "\n",
    "plt.hist(data_val, bins=15)"
   ]
  },
  {
   "cell_type": "code",
   "execution_count": 3,
   "id": "717a237d",
   "metadata": {},
   "outputs": [],
   "source": [
    "train_mean, train_std = data_train.mean(), data_train.std()\n",
    "\n",
    "data_train = (data_train - train_mean) / train_std\n",
    "data_val = (data_val - train_mean) / train_std"
   ]
  },
  {
   "cell_type": "code",
   "execution_count": 4,
   "id": "ebae8832",
   "metadata": {},
   "outputs": [],
   "source": [
    "class TrainDataset(torch.utils.data.Dataset):\n",
    "    def __init__(self, nums):\n",
    "        self.nums = nums\n",
    "    \n",
    "    \n",
    "    def __len__(self):\n",
    "        return len(self.nums)\n",
    "    \n",
    "    \n",
    "    def __getitem__(self, index):\n",
    "        return self.nums[index].unsqueeze(0)"
   ]
  },
  {
   "cell_type": "code",
   "execution_count": 5,
   "id": "dcf1534f",
   "metadata": {},
   "outputs": [
    {
     "data": {
      "text/plain": [
       "'\\nclass ValDataset(torch.utils.data.Dataset):\\n    def __init__(self, real_nums, n):\\n        self.real_nums = real_nums   # real_nums: (len(data_val),)\\n        self.n = n                   # n: (len(data_val), noise_dim)\\n    \\n    \\n    def __len__(self):\\n        return len(self.real_nums)\\n    \\n    \\n    def __getitem__(self, index):\\n        return self.real_nums[index].unsqueeze(0), self.n[index]\\n'"
      ]
     },
     "execution_count": 5,
     "metadata": {},
     "output_type": "execute_result"
    }
   ],
   "source": [
    "'''\n",
    "class ValDataset(torch.utils.data.Dataset):\n",
    "    def __init__(self, real_nums, n):\n",
    "        self.real_nums = real_nums   # real_nums: (len(data_val),)\n",
    "        self.n = n                   # n: (len(data_val), noise_dim)\n",
    "    \n",
    "    \n",
    "    def __len__(self):\n",
    "        return len(self.real_nums)\n",
    "    \n",
    "    \n",
    "    def __getitem__(self, index):\n",
    "        return self.real_nums[index].unsqueeze(0), self.n[index]\n",
    "'''"
   ]
  },
  {
   "cell_type": "code",
   "execution_count": 6,
   "id": "1ed5cc4d",
   "metadata": {},
   "outputs": [],
   "source": [
    "def gauusian_kernel_mmd(x, y, gamma=1):\n",
    "    # x: (b, no_features)\n",
    "    # y: (b, no_features)\n",
    "    b = x.shape[0]\n",
    "            \n",
    "    K = rbf_kernel(x, x, gamma=gamma)\n",
    "    A = (K.sum() - K.diagonal().sum()) / (b * (b - 1))\n",
    "\n",
    "    K = rbf_kernel(y, y, gamma=gamma)\n",
    "    C = (K.sum() - K.diagonal().sum()) / (b * (b - 1))\n",
    "\n",
    "    K = rbf_kernel(x, y, gamma=gamma)\n",
    "    B = 2 * (K.sum() / (b * b))\n",
    "\n",
    "    return A - B + C\n",
    "    "
   ]
  },
  {
   "cell_type": "code",
   "execution_count": 7,
   "id": "f3602b5d",
   "metadata": {},
   "outputs": [],
   "source": [
    "class Generator(torch.nn.Module):\n",
    "    def __init__(self, gen_tup):\n",
    "        super().__init__()\n",
    "        \n",
    "        # Always set the normalization of the last layer to False\n",
    "        # ((3, False), (5, True), (10, True), (5, False))\n",
    "        \n",
    "        layers = []\n",
    "        for i in range(len(gen_tup) - 1):\n",
    "            in_feat, norm = gen_tup[i]\n",
    "            out_feat, _ = gen_tup[i + 1]\n",
    "            layers.append(torch.nn.Linear(in_feat, out_feat))\n",
    "            if norm:\n",
    "                layers.append(torch.nn.BatchNorm1d(out_feat))\n",
    "            layers.append(torch.nn.LeakyReLU(0.2, inplace=True))\n",
    "        \n",
    "        # last dimension must be 1\n",
    "        in_feat, norm = gen_tup[-1]\n",
    "        layers.append(torch.nn.Linear(in_feat, 1))\n",
    "        if norm:\n",
    "            layers.append(torch.nn.BatchNorm1d(1))\n",
    "        layers.append(torch.nn.ReLU(inplace=True))\n",
    "\n",
    "        self.model = torch.nn.Sequential(*layers)\n",
    "        \n",
    "    \n",
    "    def forward(self, n):\n",
    "        # n: (b, noise_dim)\n",
    "        x = self.model(n)     # x: (b, 1)\n",
    "        return x"
   ]
  },
  {
   "cell_type": "code",
   "execution_count": 8,
   "id": "671c687b",
   "metadata": {},
   "outputs": [],
   "source": [
    "class Discriminator(torch.nn.Module):\n",
    "    def __init__(self, disc_tup):\n",
    "        super().__init__()\n",
    "        \n",
    "        # ((5, False), (10, False), (5, False))\n",
    "        out_feat, norm = disc_tup[0]\n",
    "        layers = [torch.nn.Linear(1, out_feat)]\n",
    "        if norm:\n",
    "            layers.append(torch.nn.BatchNorm1d(out_feat))\n",
    "        layers.append(torch.nn.LeakyReLU(0.2, inplace=True))\n",
    "        \n",
    "        for i in range(len(disc_tup) - 1):\n",
    "            in_feat, _ = disc_tup[i]\n",
    "            out_feat, norm = disc_tup[i + 1]\n",
    "            layers.append(torch.nn.Linear(in_feat, out_feat))\n",
    "            if norm:\n",
    "                layers.append(torch.nn.BatchNorm1d(out_feat))\n",
    "            layers.append(torch.nn.LeakyReLU(0.2, inplace=True))\n",
    "        \n",
    "        # Last layer maps last out_feat to 1 for binary classification\n",
    "        layers.append(torch.nn.Linear(out_feat, 1))\n",
    "        \n",
    "        self.model = torch.nn.Sequential(*layers)\n",
    "    \n",
    "    \n",
    "    def forward(self, x):\n",
    "        # x: (b, 1) ===> Either real/fake\n",
    "        y = self.model(x)        # y: (b, 1)\n",
    "        return y.squeeze(-1)     # y: (b,)"
   ]
  },
  {
   "cell_type": "code",
   "execution_count": 9,
   "id": "9e5b77cf",
   "metadata": {},
   "outputs": [],
   "source": [
    "class GAN(pl.LightningModule):\n",
    "    def __init__(self, gen_tup, disc_tup):\n",
    "        super().__init__()\n",
    "        \n",
    "        noise_dim, _ = gen_tup[0]\n",
    "        self.register_buffer('noise_dim', torch.tensor(noise_dim))\n",
    "        \n",
    "        if (self.global_rank == 0) and ('data_val' in globals()):\n",
    "            self.validation_n = torch.randn(\n",
    "                len(data_val), noise_dim,\n",
    "                device=self.device\n",
    "            )\n",
    "        \n",
    "        self.gen = Generator(gen_tup)\n",
    "        self.disc = Discriminator(disc_tup)\n",
    "        \n",
    "        self.criterion = torch.nn.BCEWithLogitsLoss()\n",
    "        self.automatic_optimization = False\n",
    "    \n",
    "    \n",
    "    def forward(self, n):\n",
    "        return self.gen(n)\n",
    "    \n",
    "    \n",
    "    def training_step(self, batch, batch_idx):\n",
    "        # batch: (b, 1)\n",
    "        b = batch.shape[0]\n",
    "        \n",
    "        gen_opt, disc_opt = self.optimizers()\n",
    "        \n",
    "        ##########################\n",
    "        # Optimize Discriminator #\n",
    "        ##########################\n",
    "        real_logits = self.disc(batch)     # (b,)\n",
    "        ones_labels = torch.ones_like(real_logits)\n",
    "        real_disc_loss = self.criterion(real_logits, ones_labels)\n",
    "        \n",
    "        n = torch.randn(b, self.noise_dim.item(), device=self.device)\n",
    "        x = self.gen(n)     # x: (b, 1)\n",
    "        \n",
    "        fake_logits = self.disc(x.detach())     # (b,)\n",
    "        zeros_labels = torch.zeros_like(fake_logits)\n",
    "        fake_disc_loss = self.criterion(fake_logits, zeros_labels)\n",
    "        \n",
    "        disc_loss = real_disc_loss + fake_disc_loss\n",
    "        \n",
    "        disc_opt.zero_grad()\n",
    "        self.manual_backward(disc_loss)\n",
    "        disc_opt.step()\n",
    "        \n",
    "        ######################\n",
    "        # Optimize Generator #\n",
    "        ######################\n",
    "        gen_logits = self.disc(x)\n",
    "        #gen_loss = self.criterion(gen_logits, ones_labels)\n",
    "        gen_loss = torch.mean(-torch.log(torch.sigmoid(gen_logits)))\n",
    "        \n",
    "        gen_opt.zero_grad()\n",
    "        self.manual_backward(gen_loss)\n",
    "        gen_opt.step()\n",
    "        \n",
    "        return {\n",
    "            'gen_loss': gen_loss.detach(),\n",
    "            'disc_loss': disc_loss.detach()\n",
    "        }\n",
    "        \n",
    "    \n",
    "    def train_dataloader(self):\n",
    "        train_dataset = TrainDataset(torch.tensor(data_train, dtype=torch.float32))\n",
    "        return torch.utils.data.DataLoader(\n",
    "            train_dataset, batch_size=len(train_dataset), shuffle=True,\n",
    "            num_workers=0, drop_last=True\n",
    "        )\n",
    "    \n",
    "    \n",
    "    def configure_optimizers(self):\n",
    "        gen_opt = torch.optim.Adam(self.gen.parameters(), lr=1e-4)\n",
    "        disc_opt = torch.optim.Adam(self.disc.parameters(), lr=1e-4)\n",
    "        return gen_opt, disc_opt\n",
    "    \n",
    "    \n",
    "    def on_train_epoch_end(self):\n",
    "        global min_val_mmd, best_model_state, val_mmd\n",
    "        \n",
    "        self.eval()\n",
    "        with torch.no_grad():\n",
    "            if self.global_rank == 0:\n",
    "                # refer to https://www.kaggle.com/code/onurtunali/maximum-mean-discrepancy/notebook\n",
    "\n",
    "                if 'data_val' not in globals():\n",
    "                    raise NameError('No \"data_val\" local variable to validate!')\n",
    "\n",
    "                x = self.gen(self.validation_n).numpy()\n",
    "                y = np.expand_dims(data_val, -1)\n",
    "                \n",
    "                # mmd is computed on normalized data\n",
    "                mmd = gauusian_kernel_mmd(x, y, gamma=1)\n",
    "                val_mmd.append(mmd.item())\n",
    "\n",
    "                if mmd < min_val_mmd:\n",
    "                    min_val_mmd = mmd\n",
    "                    best_gen_model_state = deepcopy(self.gen.state_dict())\n",
    "                    #print(f'mmd = {round(mmd, 2)} .... min_val_mmd = {round(min_val_mmd, 2)}')\n",
    "            \n",
    "        self.train()"
   ]
  },
  {
   "cell_type": "code",
   "execution_count": 10,
   "id": "4a12e7ad",
   "metadata": {},
   "outputs": [],
   "source": [
    "# 2 hyperparameters:\n",
    "# 1) gen tuple: 1st sub_tuple in tuple corresponds to noise (latent) dimension\n",
    "# 2) disc tuple\n",
    "\n",
    "# Always set the normalization of the last layer in gen to False\n",
    "hyperp_list = [\n",
    "    #[((3, False), (5, True), (10, True), (5, False)),\n",
    "     #((5, False), (10, False), (5, False))],\n",
    "    \n",
    "    [((4, False), (6, True), (8, True), (6, True), (3, False)),\n",
    "     ((3, False), (6, False), (9, False), (6, False), (3, False))],\n",
    "    \n",
    "    [((8, False), (10, True), (12, True), (10, True), (8, True), (6, True), (4, False)),\n",
    "     ((3, False), (6, False), (9, False), (6, False), (3, False))],\n",
    "    \n",
    "    [((10, False), (12, True), (14, True), (12, True), (10, True), (8, True), (6, True), (4, False)),\n",
    "     ((5, False), (7, False), (9, False), (7, False), (5, False), (3, False))]\n",
    "]"
   ]
  },
  {
   "cell_type": "code",
   "execution_count": 11,
   "id": "32011807",
   "metadata": {},
   "outputs": [
    {
     "name": "stderr",
     "output_type": "stream",
     "text": [
      "Global seed set to 0\n",
      "/Users/ahmedmohammed/opt/miniconda3/envs/pytorch_env/lib/python3.9/site-packages/pytorch_lightning/trainer/connectors/accelerator_connector.py:445: LightningDeprecationWarning: Setting `Trainer(gpus=0)` is deprecated in v1.7 and will be removed in v2.0. Please use `Trainer(accelerator='gpu', devices=0)` instead.\n",
      "  rank_zero_deprecation(\n",
      "GPU available: False, used: False\n",
      "TPU available: False, using: 0 TPU cores\n",
      "IPU available: False, using: 0 IPUs\n",
      "HPU available: False, using: 0 HPUs\n",
      "\n",
      "  | Name      | Type              | Params\n",
      "------------------------------------------------\n",
      "0 | gen       | Generator         | 199   \n",
      "1 | disc      | Discriminator     | 178   \n",
      "2 | criterion | BCEWithLogitsLoss | 0     \n",
      "------------------------------------------------\n",
      "377       Trainable params\n",
      "0         Non-trainable params\n",
      "377       Total params\n",
      "0.002     Total estimated model params size (MB)\n",
      "/Users/ahmedmohammed/opt/miniconda3/envs/pytorch_env/lib/python3.9/site-packages/pytorch_lightning/trainer/connectors/data_connector.py:219: PossibleUserWarning: The dataloader, train_dataloader, does not have many workers which may be a bottleneck. Consider increasing the value of the `num_workers` argument` (try 8 which is the number of cpus on this machine) in the `DataLoader` init to improve performance.\n",
      "  rank_zero_warn(\n",
      "`Trainer.fit` stopped: `max_epochs=20000` reached.\n",
      "Global seed set to 0\n",
      "/Users/ahmedmohammed/opt/miniconda3/envs/pytorch_env/lib/python3.9/site-packages/pytorch_lightning/trainer/connectors/accelerator_connector.py:445: LightningDeprecationWarning: Setting `Trainer(gpus=0)` is deprecated in v1.7 and will be removed in v2.0. Please use `Trainer(accelerator='gpu', devices=0)` instead.\n",
      "  rank_zero_deprecation(\n",
      "GPU available: False, used: False\n",
      "TPU available: False, using: 0 TPU cores\n",
      "IPU available: False, using: 0 IPUs\n",
      "HPU available: False, using: 0 HPUs\n",
      "\n",
      "  | Name      | Type              | Params\n",
      "------------------------------------------------\n",
      "0 | gen       | Generator         | 607   \n",
      "1 | disc      | Discriminator     | 178   \n",
      "2 | criterion | BCEWithLogitsLoss | 0     \n",
      "------------------------------------------------\n",
      "785       Trainable params\n",
      "0         Non-trainable params\n",
      "785       Total params\n",
      "0.003     Total estimated model params size (MB)\n",
      "/Users/ahmedmohammed/opt/miniconda3/envs/pytorch_env/lib/python3.9/site-packages/pytorch_lightning/trainer/connectors/data_connector.py:219: PossibleUserWarning: The dataloader, train_dataloader, does not have many workers which may be a bottleneck. Consider increasing the value of the `num_workers` argument` (try 8 which is the number of cpus on this machine) in the `DataLoader` init to improve performance.\n",
      "  rank_zero_warn(\n",
      "`Trainer.fit` stopped: `max_epochs=20000` reached.\n",
      "Global seed set to 0\n",
      "/Users/ahmedmohammed/opt/miniconda3/envs/pytorch_env/lib/python3.9/site-packages/pytorch_lightning/trainer/connectors/accelerator_connector.py:445: LightningDeprecationWarning: Setting `Trainer(gpus=0)` is deprecated in v1.7 and will be removed in v2.0. Please use `Trainer(accelerator='gpu', devices=0)` instead.\n",
      "  rank_zero_deprecation(\n",
      "GPU available: False, used: False\n",
      "TPU available: False, using: 0 TPU cores\n",
      "IPU available: False, using: 0 IPUs\n",
      "HPU available: False, using: 0 HPUs\n",
      "\n",
      "  | Name      | Type              | Params\n",
      "------------------------------------------------\n",
      "0 | gen       | Generator         | 907   \n",
      "1 | disc      | Discriminator     | 256   \n",
      "2 | criterion | BCEWithLogitsLoss | 0     \n",
      "------------------------------------------------\n",
      "1.2 K     Trainable params\n",
      "0         Non-trainable params\n",
      "1.2 K     Total params\n",
      "0.005     Total estimated model params size (MB)\n",
      "/Users/ahmedmohammed/opt/miniconda3/envs/pytorch_env/lib/python3.9/site-packages/pytorch_lightning/trainer/connectors/data_connector.py:219: PossibleUserWarning: The dataloader, train_dataloader, does not have many workers which may be a bottleneck. Consider increasing the value of the `num_workers` argument` (try 8 which is the number of cpus on this machine) in the `DataLoader` init to improve performance.\n",
      "  rank_zero_warn(\n",
      "`Trainer.fit` stopped: `max_epochs=20000` reached.\n"
     ]
    },
    {
     "data": {
      "image/png": "[encoded data removed]",
      "text/plain": [
       "<Figure size 432x288 with 1 Axes>"
      ]
     },
     "metadata": {
      "needs_background": "light"
     },
     "output_type": "display_data"
    },
    {
     "data": {
      "image/png": "[encoded data removed]",
      "text/plain": [
       "<Figure size 432x288 with 1 Axes>"
      ]
     },
     "metadata": {
      "needs_background": "light"
     },
     "output_type": "display_data"
    },
    {
     "data": {
      "image/png": "[encoded data removed]",
      "text/plain": [
       "<Figure size 432x288 with 1 Axes>"
      ]
     },
     "metadata": {
      "needs_background": "light"
     },
     "output_type": "display_data"
    }
   ],
   "source": [
    "figs = []\n",
    "for gen_tup, disc_tup in hyperp_list:\n",
    "    pl.utilities.seed.seed_everything(0)\n",
    "    min_val_mmd = math.inf\n",
    "    best_gen_model_state = None\n",
    "    val_mmd = []\n",
    "    \n",
    "    model = GAN(gen_tup, disc_tup)\n",
    "    trainer = pl.Trainer(\n",
    "        gpus=0, enable_checkpointing=False,\n",
    "        enable_progress_bar=False, logger=False, max_epochs=20000\n",
    "    )\n",
    "    trainer.fit(model)\n",
    "    \n",
    "    fig, ax = plt.subplots()\n",
    "    ax.plot(val_mmd)\n",
    "    figs.append(fig)\n",
    "    \n",
    "    \n",
    "    LOGGING = False \n",
    "    with open('./logs.json') as f:\n",
    "        dic = json.load(f)\n",
    "        str_id = str(gen_tup)\n",
    "        if str_id in dic:\n",
    "            if round(min_val_mmd.item(), 4) < dic[str_id]['min_val_mmd']:\n",
    "                LOGGING = True\n",
    "                dic[str_id]['min_val_mmd'] = round(min_val_mmd.item(), 4)\n",
    "                fig.savefig(dic[str_id]['val_mmd_fig_path'])\n",
    "                torch.save(best_gen_model_state, dic[str_id]['weights_file_path'])\n",
    "        else:\n",
    "            LOGGING = True\n",
    "            # determine file_number\n",
    "            files_names = os.listdir('gens_weights/')\n",
    "            if len(files_names) == 0:\n",
    "                file_number = 1\n",
    "            else:\n",
    "                for file_name in files_names:\n",
    "                    file_number = file_name[1 + file_name.find('_') : file_name.find('.')]\n",
    "                    file_number = int(file_number) + 1\n",
    "            \n",
    "            # logging\n",
    "            dic[str_id] = {\n",
    "                'min_val_mmd': round(min_val_mmd.item(), 4),\n",
    "                'val_mmd_fig_path': 'val_mmd_figs/gen_' + str(file_number) + '.jpeg',\n",
    "                'weights_file_path': 'gens_weights/gen_' + str(file_number) + '.pt',\n",
    "                'train_mean': train_mean.item(),\n",
    "                'train_std': train_std.item()\n",
    "            }\n",
    "            fig.savefig(dic[str_id]['val_mmd_fig_path'])\n",
    "            torch.save(best_gen_model_state, dic[str_id]['weights_file_path'])\n",
    "    \n",
    "    \n",
    "    if LOGGING:\n",
    "        with open('logs.json', 'w') as f:\n",
    "            json.dump(dic, f, indent=2)"
   ]
  },
  {
   "cell_type": "code",
   "execution_count": null,
   "id": "da2597ab",
   "metadata": {},
   "outputs": [],
   "source": []
  },
  {
   "cell_type": "code",
   "execution_count": null,
   "id": "ed5e4ef7",
   "metadata": {},
   "outputs": [],
   "source": []
  },
  {
   "cell_type": "code",
   "execution_count": null,
   "id": "26cca756",
   "metadata": {},
   "outputs": [],
   "source": []
  },
  {
   "cell_type": "code",
   "execution_count": 1,
   "id": "e0a996d4",
   "metadata": {},
   "outputs": [],
   "source": [
    "import json"
   ]
  },
  {
   "cell_type": "code",
   "execution_count": null,
   "id": "b18e030e",
   "metadata": {},
   "outputs": [],
   "source": [
    "with open('logs.json', 'w') as f:\n",
    "    json.dum(dic, f, indent=2)"
   ]
  }
 ],
 "metadata": {
  "kernelspec": {
   "display_name": "pytorch_env",
   "language": "python",
   "name": "pytorch_env"
  },
  "language_info": {
   "codemirror_mode": {
    "name": "ipython",
    "version": 3
   },
   "file_extension": ".py",
   "mimetype": "text/x-python",
   "name": "python",
   "nbconvert_exporter": "python",
   "pygments_lexer": "ipython3",
   "version": "3.9.12"
  }
 },
 "nbformat": 4,
 "nbformat_minor": 5
}
